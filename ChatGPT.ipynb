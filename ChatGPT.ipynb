{
 "cells": [
  {
   "cell_type": "code",
   "execution_count": 2,
   "id": "850bac07",
   "metadata": {},
   "outputs": [],
   "source": [
    "import pandas as pd\n",
    "import numpy as np\n",
    "from numpy import nan"
   ]
  },
  {
   "cell_type": "code",
   "execution_count": 3,
   "id": "220d716b",
   "metadata": {},
   "outputs": [
    {
     "data": {
      "text/html": [
       "<div>\n",
       "<style scoped>\n",
       "    .dataframe tbody tr th:only-of-type {\n",
       "        vertical-align: middle;\n",
       "    }\n",
       "\n",
       "    .dataframe tbody tr th {\n",
       "        vertical-align: top;\n",
       "    }\n",
       "\n",
       "    .dataframe thead th {\n",
       "        text-align: right;\n",
       "    }\n",
       "</style>\n",
       "<table border=\"1\" class=\"dataframe\">\n",
       "  <thead>\n",
       "    <tr style=\"text-align: right;\">\n",
       "      <th></th>\n",
       "      <th>title_and_text</th>\n",
       "      <th>fold</th>\n",
       "      <th>Tag</th>\n",
       "    </tr>\n",
       "  </thead>\n",
       "  <tbody>\n",
       "    <tr>\n",
       "      <th>0</th>\n",
       "      <td>10 High Calcium Foods For Pregnancy If there’s...</td>\n",
       "      <td>2</td>\n",
       "      <td>1</td>\n",
       "    </tr>\n",
       "    <tr>\n",
       "      <th>1</th>\n",
       "      <td>10 Green Smoothies For Pregnancy Yummmm…who do...</td>\n",
       "      <td>5</td>\n",
       "      <td>1</td>\n",
       "    </tr>\n",
       "    <tr>\n",
       "      <th>2</th>\n",
       "      <td>5 Calcium Benefits For Pregnancy The pregnant ...</td>\n",
       "      <td>2</td>\n",
       "      <td>1</td>\n",
       "    </tr>\n",
       "    <tr>\n",
       "      <th>3</th>\n",
       "      <td>DHA and Pregnancy If there’s anything we know ...</td>\n",
       "      <td>3</td>\n",
       "      <td>1</td>\n",
       "    </tr>\n",
       "    <tr>\n",
       "      <th>4</th>\n",
       "      <td>Is A Cup Of Coffee Safe During Pregnancy? Unde...</td>\n",
       "      <td>5</td>\n",
       "      <td>1</td>\n",
       "    </tr>\n",
       "    <tr>\n",
       "      <th>5</th>\n",
       "      <td>Benefits Of Taking A Prenatal Vitamin Before P...</td>\n",
       "      <td>2</td>\n",
       "      <td>1</td>\n",
       "    </tr>\n",
       "    <tr>\n",
       "      <th>6</th>\n",
       "      <td>Common Foods That Upset Stomach During Pregnan...</td>\n",
       "      <td>2</td>\n",
       "      <td>1</td>\n",
       "    </tr>\n",
       "    <tr>\n",
       "      <th>7</th>\n",
       "      <td>Safe Seafood During Pregnancy Pregnancy can be...</td>\n",
       "      <td>2</td>\n",
       "      <td>1</td>\n",
       "    </tr>\n",
       "    <tr>\n",
       "      <th>8</th>\n",
       "      <td>What Not To Drink While Pregnant Hydration is ...</td>\n",
       "      <td>3</td>\n",
       "      <td>1</td>\n",
       "    </tr>\n",
       "    <tr>\n",
       "      <th>9</th>\n",
       "      <td>Is Canned Food Safe For Pregnancy Canned foods...</td>\n",
       "      <td>1</td>\n",
       "      <td>1</td>\n",
       "    </tr>\n",
       "    <tr>\n",
       "      <th>10</th>\n",
       "      <td>Healthy Sweets For Pregnancy Pregnancy is a mi...</td>\n",
       "      <td>2</td>\n",
       "      <td>1</td>\n",
       "    </tr>\n",
       "    <tr>\n",
       "      <th>11</th>\n",
       "      <td>How Much Water Should You Drink A Day During P...</td>\n",
       "      <td>4</td>\n",
       "      <td>1</td>\n",
       "    </tr>\n",
       "    <tr>\n",
       "      <th>12</th>\n",
       "      <td>I’m a nutritionist: Here are my 5 favorite pre...</td>\n",
       "      <td>1</td>\n",
       "      <td>1</td>\n",
       "    </tr>\n",
       "    <tr>\n",
       "      <th>13</th>\n",
       "      <td>How much water should a pregnant woman drink? ...</td>\n",
       "      <td>1</td>\n",
       "      <td>1</td>\n",
       "    </tr>\n",
       "    <tr>\n",
       "      <th>14</th>\n",
       "      <td>Looking for the best prenatal vitamin? 7 reaso...</td>\n",
       "      <td>5</td>\n",
       "      <td>1</td>\n",
       "    </tr>\n",
       "  </tbody>\n",
       "</table>\n",
       "</div>"
      ],
      "text/plain": [
       "                                       title_and_text  fold  Tag\n",
       "0   10 High Calcium Foods For Pregnancy If there’s...     2    1\n",
       "1   10 Green Smoothies For Pregnancy Yummmm…who do...     5    1\n",
       "2   5 Calcium Benefits For Pregnancy The pregnant ...     2    1\n",
       "3   DHA and Pregnancy If there’s anything we know ...     3    1\n",
       "4   Is A Cup Of Coffee Safe During Pregnancy? Unde...     5    1\n",
       "5   Benefits Of Taking A Prenatal Vitamin Before P...     2    1\n",
       "6   Common Foods That Upset Stomach During Pregnan...     2    1\n",
       "7   Safe Seafood During Pregnancy Pregnancy can be...     2    1\n",
       "8   What Not To Drink While Pregnant Hydration is ...     3    1\n",
       "9   Is Canned Food Safe For Pregnancy Canned foods...     1    1\n",
       "10  Healthy Sweets For Pregnancy Pregnancy is a mi...     2    1\n",
       "11  How Much Water Should You Drink A Day During P...     4    1\n",
       "12  I’m a nutritionist: Here are my 5 favorite pre...     1    1\n",
       "13  How much water should a pregnant woman drink? ...     1    1\n",
       "14  Looking for the best prenatal vitamin? 7 reaso...     5    1"
      ]
     },
     "execution_count": 3,
     "metadata": {},
     "output_type": "execute_result"
    }
   ],
   "source": [
    "# read data\n",
    "df = pd.read_excel(\"title_and_text_data.xlsx\")\n",
    "df1= df.iloc[0:15, :]\n",
    "df1"
   ]
  },
  {
   "cell_type": "code",
   "execution_count": 4,
   "id": "d37b79ec",
   "metadata": {},
   "outputs": [],
   "source": [
    "from pyChatGPT import ChatGPT"
   ]
  },
  {
   "cell_type": "code",
   "execution_count": 5,
   "id": "ad53b3df",
   "metadata": {},
   "outputs": [],
   "source": [
    "session_token=\"eyJhbGciOiJkaXIiLCJlbmMiOiJBMjU2R0NNIn0..2tJz9sJFZlhlazU_.iFy0r3aVDG4Sc4Rra5Kn6z6GNozpPkx1961kky8d0fmyXOazEtxGG8E7jf6aKdQ-Kped2f9p_9of-kdq0d6uL8iPPgge_cswiCtGO3ko2MFVK0wWuZEL3JaU6m5TnI6COGZi56ihvRobguLdBFCUdE6TU42SgMbFccMExuo34-URQH9Bvz90pdjRBDs4Bni-aA2zzSDjEefFbLkpbJRa3e49ZIUKS2esx75ZNPfwH0070mQPnkEN6MBWFTS0tDJFK9P04_TwzVlRaaVB6z03YLNADOZbGe3XxBBXrfnM7sVz5CBkAMS3Zl2IS99y9mxEWacaTZWYKR0gXbpOhO5jMl1H1LCZPDOoD5dt8IngtrYpB9mHKksj--8UHh9xo4vaz710Aebd6pze--tMxzbDmH7SmthovXFBq1dsaTnna8wSwW1Mlhc8fXLGgyakt0SwrWBy9dDBim757NBfd5hqf4AAGYjuka4qCaoZMB7lsmmwN-PIBhL1EiwpkYbgP-vTBNcjCUPw74-hrXrZHhq46sJkgdgsZIpPERvV-jt_Y-TRzJIxmfNQyMc0rzMx1cWDmil8BhAbIE0Q0eWPXm0Y6biFjKC-Nx6xXg1LBEfTTXPKMMxd0oJDbpwGKbndB8_GxczO0Dio78j_nKEqB707FZc6mmXv7ViCrVn67_wd0uQnjaWAXWh3XYYX-FxU6Zk51NWlCtapZCTlGnQ6JlwoRVvCDKJS5EIaQD88ChAkQ5Pf689gJeXDpgu6hVbEmHE8e0zfuveRY50mcyXQxFK2cPgZF7rVsvsLomI_yrfvcIV-h_VNkEHHG91vbaXL4oPwWxFxNsz-5QsAIFL3fr-q23OpMFWcfFVqpNVDCCGFuPT_ScLcKZBBpC1g3XQlWWIS75oiUewx89CTg3YbKUazRM2LKlavpPGb37z00TjxrSmLTWI6ltxMGK0YSfxyIr665i1LQtJSxDcrzCQQveF-FUxy0pYEGu6M-oGCZVSnvxP7ZUyb21i2z9z6Wz6ATdaw4qWO-HJZF4Lhh3ciOUxDOKqqYIkDisY8PcNdxp_zW9UvAJM7bnNt5pttfwlh5_E-pQOgQ0JKz0yeFuVxLTaavMBIOSi25HSzeQ1mD6it9NnUjcylpI3stZHNyHoXCq6HvINE9f4SGxj3tNb3n-Mx3gfYOT2A_fN40QCBTjpwIy5CE7q8B8PCxoaAXhKEFVXFZen232dKBf3yWoHy-e4cwtlzXdxi0YMPNlTW6AYiWBSxw8DectxwPCRGQqYUH2N7PnvwfeD_VSN0d6gyq8tsD3pGZioPGE_MNjo_iFOUdGx6nYx89dzPwOTWgMpDZZdoMcHEZTa7hVoizwlaSr-KPa2GskhY2h-uKIaXcd4d9J23p7LVwi2h-rTi1lCtLx-NA8gAUqkYVMmIVPtaAlF2bXRy1gl2t--_vEFyhlnoPNkagy0DumGC057PC-YRf-qzL5KxvG_tiVrup3X7GHbFVhXnfT5t2vb1wNRq9nGO343zVDYX37iYIq0xtqJi7zvsSzOSyJ4SnJ8vt4YGF3yd26UgqYGX5KF2zxhThi4AfAfhbPUkL_RaTt9F2sABJAdjUw6ov6Z3tseIN4ilMBoZjx5WekZwfuS-VWZroakSxzQCY7aT--cK2Nrv8NBrj1h5TkWPVNwuQvEtR9z2kyMPg9JjELfzo22osl5mDiCYgV-fteX1SdNWJCt31FFH6c_8X3SxXyF2MtWeLxBGDF28_FlrRJMFu5Lx8uPPZmKaA6mvt25U0XRiUQYCln6bbKxCHUzU0Etc7jqFaXosmv_MmUkWA0CqQ04YiSfOY2-GH6wqV-ZMJxODgImhVqnPtuAMBfgMHJaTTWq7T03VSYVndglhITNth06F7laWOATmQKyAesT-cjLQ7ibOrQ_6PnoNkRmXjX6fK-Vjt7NHziUTM6790tznHt3gsKQF1fCEmRux8voUk7ugeKkG4d3aP6Aaa3IxNUA8Fys2fn86kuOWET0vRgV0sP-c1IOA5CUtZBK7TNlESayDXYSfoW1S9QoaHQk-2rT6v6xa5oef4Ju8m8dDaODdqS4xGko8VTHJ6vGR1rDVOT45YvYtuFHKghork5XvjKmIrYigc9p_CnFgffhC35fL3tGYkS5tmURbH5COpOjGBU67n4lH5Wxe-y2NFmfZpQ-sYx1Yn8xmczjukuR1pnSGEdW6-cDmeCjiqzZuL6bhzvYv685Cs_TswP8DSwYTSuDjs3ucAgB8QD_66dEj6t8a6R8RDNQVOsYskBJk6Q9XbHMwBKKXPDmMo-75FH4HRKqL6VTGKOrE4CmcOqbRZKmZXR5rU9JwnCwfZg-bnzOq88D9MjkKYXgn7pf3CHQm_TBsFvfXl84ivmOZ4wvNQis.az1d7VL_WWQP9AAdiV8zCQ\""
   ]
  },
  {
   "cell_type": "code",
   "execution_count": 66,
   "id": "80d8ce97",
   "metadata": {},
   "outputs": [],
   "source": [
    "session_token=\"eyJhbGciOiJkaXIiLCJlbmMiOiJBMjU2R0NNIn0..ZOyU0moHDddHxRTk.vLWXUG57L2fOZKXKAshJ2H3xXRzowTbF833Q1FR2nQ7Kv1bAsnUEN3DFKb5Skpb7er3Ok0Zxz8UYMB8DlNfa8wSQYxYLzqTmcwgOvbvgD7EwJ8GzRR8pZffHI16YGA2f4uxAKVJcwLOoU-0393vOrDtT9YJaJuDNyP-W9vK7hY0FtdZqfQ5YRm74HjbdbQAMsU1gsKvIzSrYzzmKcatzNgFQHFksCmBVIu1eTAn56i-n2L7Ddm90VCd8J7WQVvQJKE-ZI7Yt73-meAeXHiq-U7GaLz0vAFoYCdoOF8NVh6iHx-dcg0lajpcfrv-1cx60_WkQycMnE8u5kV2Uulmck1n6pJ-9NT98T91BYkCybngMN44HAwZCJfMuYiW3yEC0q3iFthPQCN6FoJYYmSdsMK9nLHmLPSCCjhI_X_TcrJX06mHTki8n-T4qifzXkw0nnuZ8dCw6C9qE94FCvCQrNj_SAC-G75eWPgZxMi0lcanapYzQtP1yvV0E1x4DdQeaWOEjqDLNL4SuKre76YzNEFv9_qOVAZCQk6AtIjLeWxHbF8O1nb4v5kxO91yNQomhzpZhNBAr4lqrWElbbepRiVK_LobVEB09x0eOQSI_tVoL5ICValnescsKkvl3WC-MQzmDD3hvapRyG7jdyPT9MXwr6ykFw_-06WQYHWb-Pk1xHLJ9U0x0Dv7AloR0RF4kouhu4sh1mtH2XlftQQUJ2zPq_2cq4nU5NJc8Byd7d0WLWf9vdnooo2T7E_wGuFO2U8Hvpc_1TWrzNRKYAptnJZwh5UZ94M0bCYRqegSgfyzaF556BUShWxhrFq1vSF04rCIB4djZvXqvwWx0vuG-_qi3pRbDxVvoi_SPysMmrsrZBA4pTQF35LFddBBeaPEnvwgWUs2k5-eqedcBKnpb0Ou2w0GNIHqhSaHXHrgK22Xk7iqel7doSyBTXQ3Y6l26umKo7lqlnUzQ_RiGCEcGKGTrgdYmid2_LBSVFBEOciv9uD6_Fq_QZ1DcLjs60xZF_73PWwhZqNDjQCrSVjsQj_lsi82x68HrZnVP6KTkN7tZOW666_OG9Wo5EPJMsyjDc-bXZVpDQbKlWhDEEuzOZjudZ56WeBhvaE1Rr1-o7RPoMLLADAUVn5G41aC1MOslHyHHm60zfweS-PFCesKLzQdP0a4lakJKcS5C75UHVjCeWE9X9zkZjtXxCvUO36dMuTcfnrQdSRq9eBVwGWHUHukOwLQfQRCtH95in7stV2gsaVhScx1ZK44hCxLC1YDicR4A3ubrp9auA8Dr0Kf367Y09KA84pyWg47XxEXplEdnpIT9jjkvj3yPiaWqgU6TyudDs-ly5YgkBiF7J2AEQEItA0GgRTCmDUzRDuVT_BCtoK1SDW9LN7xHsNIo0naOo7z7EOUY2duGq2-KpvjqrPc_nvpxo_SAsOwWxoZpzIOEXkCsPEWC7cPtCDCPzQHQr0xEOh0eUOP9kAMY-yQC5t-UNWqE8PxkdEnbIaYNivdql35DC-iqSSAP5BtyaEqK_trcfw8bXJHEtelPlkDVoyRfonE5vBfTk3iPXzxJRxPkOj0FhqbZwbFZN_kBz3sNJYSQmdxA6dVXFVkeRHHtTjG7Od8vDF6TgQXBhwiksb8j06c2DxyKQjijT9YljEasNGG5K4wxPCGhQx8BA6SXeMmWnrDpN00LXw-I8GFbOlfsIRmik6NYGH22BK3Kgv5xD-yDLFtXoXeAEFm3hRIe308ETKGWIot-QXQfy062RTaQE79qnPAulqoa6PpUvxaadOXuWoBdVdvMoxmqqKHRjPmcMKCIYzV43ONPjNhGyOfzQ8iEkL02_f7ZUpWKB3xgk_4XaUJaV27EWaJJY1doYMZ1CJ3Lpbw-dYnTRZpfQREraknPvxWh15sY5oe36Q77VBbvpI943O4l5biDDeKqhc9KzxRZTlmTbYXn1Kjx1d1aKW9Q-mWVqIzN8SsX9SStkY1c6Nc9vcPufATHM2XaVVG60QfmVTL6s3Z__4xqMj136VICpk0RiV8Zr8xAW6PjLx8fx3XUEWiGVpjFaeE2i6ZfP6hGBOdV22gMoGEqVL5dB_XzH95F0uyAqIS4f-EOyz5q49BNjthL4Hy--mRGcJLNdX4hS1aE4_xYmnIvOnuEYyc4dYVog5O0_bKj8wr8sJuHYjVAorUTj3SDfeYGpU_8uEJHriVDYhqX95tOBY81_lP053GhFSWCU1dD3lK4apsCLMYUft9k40NkjkzHnQWizGPLIgOvJMTYLV9zsgDN_yNuaBvy-RsRD5pcO6oIcwZJzWsDLrn1WDYGULHPOVWXfuTKxohKGGGp3f1k4JGgOXZvrezc5U_KLhBlmPBdvdmVFaNv.-soHT_RYzLL4GloA3N67hQ\""
   ]
  },
  {
   "cell_type": "code",
   "execution_count": 49,
   "id": "4cf6fed2",
   "metadata": {},
   "outputs": [],
   "source": [
    "session_token=\"eyJhbGciOiJkaXIiLCJlbmMiOiJBMjU2R0NNIn0..p2SlUvNK7cVpkIMJ.WcdvrXDq-vcrbstptcAbycszJ7EohnIuLtSZulDxMo_prsKVzNFiYwLkENS5xHx3m8Kcim91cmY3HLdVnKCKBvJ2UfXABP3zcwNelaVfVuVNMNnh5dcNocc6XyZOgmE-mJTRr_lE5p-bQP1Y-TnGs5X1oss_24bXx8NfXpaMPvQkJ6qWdw-p9y77fOyQY71W0bdimVxqvapNSfpoWvwGsqLrcIk_6-5N3ACCVyD1idlJ6PzlmFAxxPhKVJ2ZoTCcNwlp0vma-12gPIVUqmoHf60rbTE9IYGxZuNp2F1_4Rpj1jYbEpgdYN7NCkBpYpfS2sROiMzu5ChfydbCsog9smvseHCvJcBGkhp6INN6gXiGyfC4-vwP6nZnEC9PJPaD_5YySdO4mjwXoFzei3aU0KupkACYOAaX6koOPm8x2JDo_VSHCkdXxn_A5oIpH1H5fDYVXhJ9qG8JII7UdmLjebFQWV7Srzoz_zLoGeYrUFibCYA6ho8akuiaCj828Epiliyjn4McjZypsyWWuk1gmZP4NkpIiul2z2J1Vks5CiGhPtWrrwfRcdiMnbT8DPPKoMLti9euSKB2AAoAqqtTPfmWsERc1_Hz05gQhyO5cfO14eS2WLnCViI8nI1Ur86Y_FvZLS4SY_zPtDL_LTEmg-0rtpC4X-mUogjREHCiawnSlRq_dcLKb0QUnHRSOZtjzrRupdyU5OIDpTsKpNiQMp_k4sfNSKRGoODzjYqMH-rVXO-gZmSTmHY1Y-6uy-h7PImFUccZQqCq_XfcSUE4wtxXlGjY09xGskaujoDvLqjjWwY-A8SM2jT98wrgVHP6ea9rlMQuSHzwImJSPOUCTsnReFIVPtDgGzfMTZRBGIkSFGr3fZohwikqvh1841FDLHef8T0wkVWWV_OEKcRRTqzMHRba3BBj1JcBGT7PyLHKGubO53sh3ESB9eCrKTQ7VpKmjdZmu25fE0uBV_d01a6FJFatEdQG9mX-QDSQRAJlgMkfmyjJi2BoJCuUdO24T1cdIPm86v377fmf4CjMBXzdOZoBGf9sx_6Xmf5mhepYFnohlXEBTd8bDWYpN95eXkYcgCbUNZBeR1Sjya7gl9r4Yreekcmk4158eMzBXMjFn_SGwwrh8kHdO4Mf-6ozwheQuSKBV3BMN_mcWfrM239PXJJQLLWvmLKVF08L-HijM2HEzQGjGmhuRUkQalvJDrY9TwESdY78pxB3R8Cf6sGlNstND3qB8GjHqniSNj2ZX5kXZ1z8eZkV54yYULRn7-OS1jva05J9ZcrpSaVCJeqOhk4KD4k6_lmv70bYmAuSQgimIt5DjyZOpprRdmEPwWodLbl_FYL8Qg1HQP2xF9b1bfpi5_MTD7WD0I4bZM_7vZLF5AndrkE5FN_FeoRZgM4BYNaCBEIHCHQm9LMw8V1NvWwzUSLsZbkTIIZUNPowfmM3E97mNG22IAUhRQrJpoBtrDuZpyJ845WIe_Ho4RKAgUpd3iw2JnM-96M4pfKL51U_T1N7GwrEuNAUJo0vnoQ29BXpyQYFKSR4KtlxSsxm0-qsODO2RAg6jqpxME4z5-GAYqtvTMt5bmKcYS9EGcFiDQZd9XcVyuyGtjyOXliq9leDk4AfItdGfBrI0fWdN38CCBP6-k16LT73ByG99cHMPOJwmhucU2BXT14PQ-xAG406YK-EhJ9MAgYEMSmz7NrwNNgIAZD7oTMDIMc_mfyoTDOw9h0vGbsaiF-c67f1eHRMUX7klRzX_BodpqGHg8TSoQdqFRG0xevoXUpygpZ8icdvOnYtByvMCXFWTOQmSF6QkSLiSIixFLEhvLSZ_gf7xg22hNrrGLZY8E1KDguaelBBELvaVyagTjzyb3xwsdV56gkCNj_8TXSjw4JhKmcDk0IekdYB8GEXDMR7Gf9bZNhOBvfSBwfkM253eKIAOlzkJiYpgthrGjl4z3A19MOfd0fWwd-LJFDtcQDB0g-hWFwQbbrEJMk9xV24iNjHWgoc3FfSUL1XrJofNOcq0GtF1Qm78thU6KfxCg7c67qQWOUxqBQ5VH9AEVsnom8e_HIDxM1rk7oSDP2gN17wYllm7107pBg8854sW2bGu_51hWANkHMm5hpFOov1HU_a-i06Wg_zdD7KFYlpbHEE1AcIrBtg-cWDWJyDBz6HjtNNgCi-R3HeqcAJLz2YQskWG_WdN0WeYyc4Y8-gP_Z2nOQsPqYV2hK7Z0APcLM6b_SjhXDGMEDF7N52TkrIVVAXyDY6dTx1lgm8bWMz4WjSQYGuf47CVgC_dBpkQtoyO_A79ugJ0jA9gazUqf4gTON35X0z51PejyPl2Jc5TbVHOZ7BnTwgz7CZwC6oH30F.IctVGhhsGjjx_XE11YIisw\""
   ]
  },
  {
   "cell_type": "code",
   "execution_count": 37,
   "id": "829d89c7",
   "metadata": {
    "scrolled": true
   },
   "outputs": [
    {
     "name": "stdout",
     "output_type": "stream",
     "text": [
      "Six times seven is 42.\n",
      "\n",
      "\n"
     ]
    }
   ],
   "source": [
    "resp=api.send_message(\"What is six times seven?\")\n",
    "print(resp[\"message\"])"
   ]
  },
  {
   "cell_type": "code",
   "execution_count": 15,
   "id": "bc4b9d07",
   "metadata": {},
   "outputs": [
    {
     "data": {
      "text/plain": [
       "{'message': 'Six times seven is equal to 42.\\n\\n',\n",
       " 'conversation_id': '',\n",
       " 'parent_id': ''}"
      ]
     },
     "execution_count": 15,
     "metadata": {},
     "output_type": "execute_result"
    }
   ],
   "source": [
    "resp"
   ]
  },
  {
   "cell_type": "markdown",
   "id": "7115bc9b",
   "metadata": {},
   "source": [
    " # Related or not"
   ]
  },
  {
   "cell_type": "markdown",
   "id": "6b4b7bf2",
   "metadata": {},
   "source": [
    "## Related"
   ]
  },
  {
   "cell_type": "code",
   "execution_count": 5,
   "id": "a1e042bc",
   "metadata": {},
   "outputs": [],
   "source": [
    "# Add a new column to the dataframe to store the classification\n",
    "#df1['related'] = \"\"\n",
    "#api= ChatGPT(session_token)\n",
    "output1=[]\n",
    "# Iterate over the rows in the dataframe and use the OpenAI API to classify each text as related to pregnancy or not\n",
    "for index , row in df1.iterrows():\n",
    "  text = row['title_and_text']\n",
    "  prompt = f\"Only answer yes or no to the question: Is the following text related to pregnancy and not related to postpartum depression: {text}\"\n",
    "  resp=api.send_message(prompt)\n",
    "  output.append(resp[\"message\"])\n",
    "\n",
    "  # Store the classification in the 'related' column of the dataframe\n",
    "#  df1.loc[number, 'related'] = message\n"
   ]
  },
  {
   "cell_type": "code",
   "execution_count": 6,
   "id": "0cca05ba",
   "metadata": {},
   "outputs": [
    {
     "data": {
      "text/plain": [
       "15"
      ]
     },
     "execution_count": 6,
     "metadata": {},
     "output_type": "execute_result"
    }
   ],
   "source": [
    "len(output)"
   ]
  },
  {
   "cell_type": "code",
   "execution_count": 7,
   "id": "9fe7d03a",
   "metadata": {
    "scrolled": true
   },
   "outputs": [
    {
     "data": {
      "text/plain": [
       "['Yes\\n\\n',\n",
       " 'Yes\\n\\n',\n",
       " 'Yes\\n\\n',\n",
       " 'Yes\\n\\n',\n",
       " 'Yes\\n\\n',\n",
       " 'Yes\\n\\n',\n",
       " 'Yes\\n\\n',\n",
       " 'Yes\\n\\n',\n",
       " 'Yes\\n\\n',\n",
       " 'Yes\\n\\n',\n",
       " 'Yes\\n\\n',\n",
       " 'Yes\\n\\n',\n",
       " 'Yes\\n\\n',\n",
       " 'Yes\\n\\n',\n",
       " 'Yes\\n\\n']"
      ]
     },
     "execution_count": 7,
     "metadata": {},
     "output_type": "execute_result"
    }
   ],
   "source": [
    "output1"
   ]
  },
  {
   "cell_type": "markdown",
   "id": "ee193586",
   "metadata": {},
   "source": [
    "## Unrelated"
   ]
  },
  {
   "cell_type": "code",
   "execution_count": 48,
   "id": "11c83021",
   "metadata": {
    "scrolled": false
   },
   "outputs": [
    {
     "data": {
      "text/html": [
       "<div>\n",
       "<style scoped>\n",
       "    .dataframe tbody tr th:only-of-type {\n",
       "        vertical-align: middle;\n",
       "    }\n",
       "\n",
       "    .dataframe tbody tr th {\n",
       "        vertical-align: top;\n",
       "    }\n",
       "\n",
       "    .dataframe thead th {\n",
       "        text-align: right;\n",
       "    }\n",
       "</style>\n",
       "<table border=\"1\" class=\"dataframe\">\n",
       "  <thead>\n",
       "    <tr style=\"text-align: right;\">\n",
       "      <th></th>\n",
       "      <th>title_and_text</th>\n",
       "      <th>fold</th>\n",
       "      <th>Tag</th>\n",
       "    </tr>\n",
       "  </thead>\n",
       "  <tbody>\n",
       "    <tr>\n",
       "      <th>641</th>\n",
       "      <td>What Every 50 Year Old Woman Needs In Their Ex...</td>\n",
       "      <td>5</td>\n",
       "      <td>7</td>\n",
       "    </tr>\n",
       "    <tr>\n",
       "      <th>642</th>\n",
       "      <td>20 Best Leg Workouts For Women: Home &amp; Gym 20 ...</td>\n",
       "      <td>5</td>\n",
       "      <td>7</td>\n",
       "    </tr>\n",
       "    <tr>\n",
       "      <th>643</th>\n",
       "      <td>HOW TO GET STARTED WITH EXERCISE AT 45 It’s im...</td>\n",
       "      <td>1</td>\n",
       "      <td>7</td>\n",
       "    </tr>\n",
       "    <tr>\n",
       "      <th>644</th>\n",
       "      <td>THE 10 BEST UPPER BODY EXERCISES FOR WOMEN Str...</td>\n",
       "      <td>1</td>\n",
       "      <td>7</td>\n",
       "    </tr>\n",
       "    <tr>\n",
       "      <th>645</th>\n",
       "      <td>Why exercise is more important than ever for w...</td>\n",
       "      <td>4</td>\n",
       "      <td>7</td>\n",
       "    </tr>\n",
       "    <tr>\n",
       "      <th>646</th>\n",
       "      <td>How to Exercise Safely and Effectively in Your...</td>\n",
       "      <td>4</td>\n",
       "      <td>7</td>\n",
       "    </tr>\n",
       "    <tr>\n",
       "      <th>647</th>\n",
       "      <td>THE IMPORTANCE OF EXERCISE FOR AGING WOMEN You...</td>\n",
       "      <td>2</td>\n",
       "      <td>7</td>\n",
       "    </tr>\n",
       "    <tr>\n",
       "      <th>648</th>\n",
       "      <td>The 14 Best Chest Exercises for Women, Accordi...</td>\n",
       "      <td>1</td>\n",
       "      <td>7</td>\n",
       "    </tr>\n",
       "    <tr>\n",
       "      <th>649</th>\n",
       "      <td>6 Best Exercises for Women Over 50 No matter y...</td>\n",
       "      <td>5</td>\n",
       "      <td>7</td>\n",
       "    </tr>\n",
       "  </tbody>\n",
       "</table>\n",
       "</div>"
      ],
      "text/plain": [
       "                                        title_and_text  fold  Tag\n",
       "641  What Every 50 Year Old Woman Needs In Their Ex...     5    7\n",
       "642  20 Best Leg Workouts For Women: Home & Gym 20 ...     5    7\n",
       "643  HOW TO GET STARTED WITH EXERCISE AT 45 It’s im...     1    7\n",
       "644  THE 10 BEST UPPER BODY EXERCISES FOR WOMEN Str...     1    7\n",
       "645  Why exercise is more important than ever for w...     4    7\n",
       "646  How to Exercise Safely and Effectively in Your...     4    7\n",
       "647  THE IMPORTANCE OF EXERCISE FOR AGING WOMEN You...     2    7\n",
       "648  The 14 Best Chest Exercises for Women, Accordi...     1    7\n",
       "649  6 Best Exercises for Women Over 50 No matter y...     5    7"
      ]
     },
     "execution_count": 48,
     "metadata": {},
     "output_type": "execute_result"
    }
   ],
   "source": [
    "df2= df.iloc[642:650, :]\n",
    "df2"
   ]
  },
  {
   "cell_type": "code",
   "execution_count": 50,
   "id": "46af6184",
   "metadata": {
    "scrolled": true
   },
   "outputs": [
    {
     "name": "stderr",
     "output_type": "stream",
     "text": [
      "WARNING:urllib3.connectionpool:Connection pool is full, discarding connection: localhost\n",
      "WARNING:urllib3.connectionpool:Connection pool is full, discarding connection: localhost\n"
     ]
    },
    {
     "ename": "TimeoutException",
     "evalue": "Message: \nStacktrace:\n0   cfeac0c84eafd92d_chromedriver       0x000000010452ff38 cfeac0c84eafd92d_chromedriver + 4910904\n1   cfeac0c84eafd92d_chromedriver       0x00000001044afa03 cfeac0c84eafd92d_chromedriver + 4385283\n2   cfeac0c84eafd92d_chromedriver       0x00000001040f4747 cfeac0c84eafd92d_chromedriver + 472903\n3   cfeac0c84eafd92d_chromedriver       0x000000010413934c cfeac0c84eafd92d_chromedriver + 754508\n4   cfeac0c84eafd92d_chromedriver       0x00000001041395a1 cfeac0c84eafd92d_chromedriver + 755105\n5   cfeac0c84eafd92d_chromedriver       0x000000010417ce94 cfeac0c84eafd92d_chromedriver + 1031828\n6   cfeac0c84eafd92d_chromedriver       0x000000010415f13d cfeac0c84eafd92d_chromedriver + 909629\n7   cfeac0c84eafd92d_chromedriver       0x000000010417a28e cfeac0c84eafd92d_chromedriver + 1020558\n8   cfeac0c84eafd92d_chromedriver       0x000000010415eee3 cfeac0c84eafd92d_chromedriver + 909027\n9   cfeac0c84eafd92d_chromedriver       0x000000010412930c cfeac0c84eafd92d_chromedriver + 688908\n10  cfeac0c84eafd92d_chromedriver       0x000000010412a88e cfeac0c84eafd92d_chromedriver + 694414\n11  cfeac0c84eafd92d_chromedriver       0x00000001044fd1de cfeac0c84eafd92d_chromedriver + 4702686\n12  cfeac0c84eafd92d_chromedriver       0x0000000104501b19 cfeac0c84eafd92d_chromedriver + 4721433\n13  cfeac0c84eafd92d_chromedriver       0x000000010450928e cfeac0c84eafd92d_chromedriver + 4752014\n14  cfeac0c84eafd92d_chromedriver       0x000000010450291a cfeac0c84eafd92d_chromedriver + 4725018\n15  cfeac0c84eafd92d_chromedriver       0x00000001044d6b02 cfeac0c84eafd92d_chromedriver + 4545282\n16  cfeac0c84eafd92d_chromedriver       0x0000000104521888 cfeac0c84eafd92d_chromedriver + 4851848\n17  cfeac0c84eafd92d_chromedriver       0x0000000104521a05 cfeac0c84eafd92d_chromedriver + 4852229\n18  cfeac0c84eafd92d_chromedriver       0x0000000104537e5f cfeac0c84eafd92d_chromedriver + 4943455\n19  libsystem_pthread.dylib             0x00007ff814ab04e1 _pthread_start + 125\n20  libsystem_pthread.dylib             0x00007ff814aabf6b thread_start + 15\n",
     "output_type": "error",
     "traceback": [
      "\u001b[0;31m---------------------------------------------------------------------------\u001b[0m",
      "\u001b[0;31mTimeoutException\u001b[0m                          Traceback (most recent call last)",
      "\u001b[0;32m/var/folders/4h/njy_tpyd4dx8jgyfcxhcnd1h0000gn/T/ipykernel_1994/3993032751.py\u001b[0m in \u001b[0;36m<module>\u001b[0;34m\u001b[0m\n\u001b[1;32m      6\u001b[0m   \u001b[0mtext\u001b[0m \u001b[0;34m=\u001b[0m \u001b[0mrow\u001b[0m\u001b[0;34m[\u001b[0m\u001b[0;34m'title_and_text'\u001b[0m\u001b[0;34m]\u001b[0m\u001b[0;34m\u001b[0m\u001b[0;34m\u001b[0m\u001b[0m\n\u001b[1;32m      7\u001b[0m   \u001b[0mprompt\u001b[0m \u001b[0;34m=\u001b[0m \u001b[0;34mf\"Only answer yes or no to the question: Is the following text related to pregnancy and not related to postpartum depression: {text}\"\u001b[0m\u001b[0;34m\u001b[0m\u001b[0;34m\u001b[0m\u001b[0m\n\u001b[0;32m----> 8\u001b[0;31m   \u001b[0mresp\u001b[0m\u001b[0;34m=\u001b[0m\u001b[0mapi\u001b[0m\u001b[0;34m.\u001b[0m\u001b[0msend_message\u001b[0m\u001b[0;34m(\u001b[0m\u001b[0mprompt\u001b[0m\u001b[0;34m)\u001b[0m\u001b[0;34m\u001b[0m\u001b[0;34m\u001b[0m\u001b[0m\n\u001b[0m\u001b[1;32m      9\u001b[0m   \u001b[0moutput27\u001b[0m\u001b[0;34m.\u001b[0m\u001b[0mappend\u001b[0m\u001b[0;34m(\u001b[0m\u001b[0mresp\u001b[0m\u001b[0;34m[\u001b[0m\u001b[0;34m\"message\"\u001b[0m\u001b[0;34m]\u001b[0m\u001b[0;34m)\u001b[0m\u001b[0;34m\u001b[0m\u001b[0;34m\u001b[0m\u001b[0m\n",
      "\u001b[0;32m~/opt/anaconda3/lib/python3.9/site-packages/pyChatGPT/pyChatGPT.py\u001b[0m in \u001b[0;36msend_message\u001b[0;34m(self, message)\u001b[0m\n\u001b[1;32m    598\u001b[0m         \u001b[0;31m# Wait for the response to be ready\u001b[0m\u001b[0;34m\u001b[0m\u001b[0;34m\u001b[0m\u001b[0m\n\u001b[1;32m    599\u001b[0m         \u001b[0mself\u001b[0m\u001b[0;34m.\u001b[0m\u001b[0m__verbose_print\u001b[0m\u001b[0;34m(\u001b[0m\u001b[0;34m'[send_msg] Waiting for completion'\u001b[0m\u001b[0;34m)\u001b[0m\u001b[0;34m\u001b[0m\u001b[0;34m\u001b[0m\u001b[0m\n\u001b[0;32m--> 600\u001b[0;31m         WebDriverWait(self.driver, 5).until(\n\u001b[0m\u001b[1;32m    601\u001b[0m             \u001b[0mEC\u001b[0m\u001b[0;34m.\u001b[0m\u001b[0mpresence_of_element_located\u001b[0m\u001b[0;34m(\u001b[0m\u001b[0;34m(\u001b[0m\u001b[0mBy\u001b[0m\u001b[0;34m.\u001b[0m\u001b[0mCLASS_NAME\u001b[0m\u001b[0;34m,\u001b[0m \u001b[0;34m'result-streaming'\u001b[0m\u001b[0;34m)\u001b[0m\u001b[0;34m)\u001b[0m\u001b[0;34m\u001b[0m\u001b[0;34m\u001b[0m\u001b[0m\n\u001b[1;32m    602\u001b[0m         )\n",
      "\u001b[0;32m~/opt/anaconda3/lib/python3.9/site-packages/selenium/webdriver/support/wait.py\u001b[0m in \u001b[0;36muntil\u001b[0;34m(self, method, message)\u001b[0m\n\u001b[1;32m     93\u001b[0m             \u001b[0;32mif\u001b[0m \u001b[0mtime\u001b[0m\u001b[0;34m.\u001b[0m\u001b[0mmonotonic\u001b[0m\u001b[0;34m(\u001b[0m\u001b[0;34m)\u001b[0m \u001b[0;34m>\u001b[0m \u001b[0mend_time\u001b[0m\u001b[0;34m:\u001b[0m\u001b[0;34m\u001b[0m\u001b[0;34m\u001b[0m\u001b[0m\n\u001b[1;32m     94\u001b[0m                 \u001b[0;32mbreak\u001b[0m\u001b[0;34m\u001b[0m\u001b[0;34m\u001b[0m\u001b[0m\n\u001b[0;32m---> 95\u001b[0;31m         \u001b[0;32mraise\u001b[0m \u001b[0mTimeoutException\u001b[0m\u001b[0;34m(\u001b[0m\u001b[0mmessage\u001b[0m\u001b[0;34m,\u001b[0m \u001b[0mscreen\u001b[0m\u001b[0;34m,\u001b[0m \u001b[0mstacktrace\u001b[0m\u001b[0;34m)\u001b[0m\u001b[0;34m\u001b[0m\u001b[0;34m\u001b[0m\u001b[0m\n\u001b[0m\u001b[1;32m     96\u001b[0m \u001b[0;34m\u001b[0m\u001b[0m\n\u001b[1;32m     97\u001b[0m     \u001b[0;32mdef\u001b[0m \u001b[0muntil_not\u001b[0m\u001b[0;34m(\u001b[0m\u001b[0mself\u001b[0m\u001b[0;34m,\u001b[0m \u001b[0mmethod\u001b[0m\u001b[0;34m,\u001b[0m \u001b[0mmessage\u001b[0m\u001b[0;34m:\u001b[0m \u001b[0mstr\u001b[0m \u001b[0;34m=\u001b[0m \u001b[0;34m\"\"\u001b[0m\u001b[0;34m)\u001b[0m\u001b[0;34m:\u001b[0m\u001b[0;34m\u001b[0m\u001b[0;34m\u001b[0m\u001b[0m\n",
      "\u001b[0;31mTimeoutException\u001b[0m: Message: \nStacktrace:\n0   cfeac0c84eafd92d_chromedriver       0x000000010452ff38 cfeac0c84eafd92d_chromedriver + 4910904\n1   cfeac0c84eafd92d_chromedriver       0x00000001044afa03 cfeac0c84eafd92d_chromedriver + 4385283\n2   cfeac0c84eafd92d_chromedriver       0x00000001040f4747 cfeac0c84eafd92d_chromedriver + 472903\n3   cfeac0c84eafd92d_chromedriver       0x000000010413934c cfeac0c84eafd92d_chromedriver + 754508\n4   cfeac0c84eafd92d_chromedriver       0x00000001041395a1 cfeac0c84eafd92d_chromedriver + 755105\n5   cfeac0c84eafd92d_chromedriver       0x000000010417ce94 cfeac0c84eafd92d_chromedriver + 1031828\n6   cfeac0c84eafd92d_chromedriver       0x000000010415f13d cfeac0c84eafd92d_chromedriver + 909629\n7   cfeac0c84eafd92d_chromedriver       0x000000010417a28e cfeac0c84eafd92d_chromedriver + 1020558\n8   cfeac0c84eafd92d_chromedriver       0x000000010415eee3 cfeac0c84eafd92d_chromedriver + 909027\n9   cfeac0c84eafd92d_chromedriver       0x000000010412930c cfeac0c84eafd92d_chromedriver + 688908\n10  cfeac0c84eafd92d_chromedriver       0x000000010412a88e cfeac0c84eafd92d_chromedriver + 694414\n11  cfeac0c84eafd92d_chromedriver       0x00000001044fd1de cfeac0c84eafd92d_chromedriver + 4702686\n12  cfeac0c84eafd92d_chromedriver       0x0000000104501b19 cfeac0c84eafd92d_chromedriver + 4721433\n13  cfeac0c84eafd92d_chromedriver       0x000000010450928e cfeac0c84eafd92d_chromedriver + 4752014\n14  cfeac0c84eafd92d_chromedriver       0x000000010450291a cfeac0c84eafd92d_chromedriver + 4725018\n15  cfeac0c84eafd92d_chromedriver       0x00000001044d6b02 cfeac0c84eafd92d_chromedriver + 4545282\n16  cfeac0c84eafd92d_chromedriver       0x0000000104521888 cfeac0c84eafd92d_chromedriver + 4851848\n17  cfeac0c84eafd92d_chromedriver       0x0000000104521a05 cfeac0c84eafd92d_chromedriver + 4852229\n18  cfeac0c84eafd92d_chromedriver       0x0000000104537e5f cfeac0c84eafd92d_chromedriver + 4943455\n19  libsystem_pthread.dylib             0x00007ff814ab04e1 _pthread_start + 125\n20  libsystem_pthread.dylib             0x00007ff814aabf6b thread_start + 15\n"
     ]
    }
   ],
   "source": [
    "# Add a new column to the dataframe to store the classification\n",
    "api= ChatGPT(session_token)\n",
    "output2=[]\n",
    "# Iterate over the rows in the dataframe and use the OpenAI API to classify each text as related to pregnancy or not\n",
    "for index , row in df2.iterrows():\n",
    "  text = row['title_and_text']\n",
    "  prompt = f\"Only answer yes or no to the question: Is the following text related to pregnancy and not related to postpartum depression: {text}\"\n",
    "  resp=api.send_message(prompt)\n",
    "  output2.append(resp[\"message\"])"
   ]
  },
  {
   "cell_type": "code",
   "execution_count": 51,
   "id": "3d952bc0",
   "metadata": {
    "scrolled": true
   },
   "outputs": [
    {
     "data": {
      "text/plain": [
       "['No\\n\\n']"
      ]
     },
     "execution_count": 51,
     "metadata": {},
     "output_type": "execute_result"
    }
   ],
   "source": [
    "output2"
   ]
  },
  {
   "cell_type": "markdown",
   "id": "01470a6b",
   "metadata": {},
   "source": [
    "# 4 categories"
   ]
  },
  {
   "cell_type": "code",
   "execution_count": 72,
   "id": "1b955c41",
   "metadata": {
    "scrolled": true
   },
   "outputs": [
    {
     "data": {
      "text/html": [
       "<div>\n",
       "<style scoped>\n",
       "    .dataframe tbody tr th:only-of-type {\n",
       "        vertical-align: middle;\n",
       "    }\n",
       "\n",
       "    .dataframe tbody tr th {\n",
       "        vertical-align: top;\n",
       "    }\n",
       "\n",
       "    .dataframe thead th {\n",
       "        text-align: right;\n",
       "    }\n",
       "</style>\n",
       "<table border=\"1\" class=\"dataframe\">\n",
       "  <thead>\n",
       "    <tr style=\"text-align: right;\">\n",
       "      <th></th>\n",
       "      <th>title_and_text</th>\n",
       "      <th>fold</th>\n",
       "      <th>Tag</th>\n",
       "    </tr>\n",
       "  </thead>\n",
       "  <tbody>\n",
       "    <tr>\n",
       "      <th>47</th>\n",
       "      <td>Eating Right Before and During Pregnancy It is...</td>\n",
       "      <td>2</td>\n",
       "      <td>1</td>\n",
       "    </tr>\n",
       "    <tr>\n",
       "      <th>48</th>\n",
       "      <td>Healthy Eating and Pregnancy Eating for two is...</td>\n",
       "      <td>4</td>\n",
       "      <td>1</td>\n",
       "    </tr>\n",
       "    <tr>\n",
       "      <th>49</th>\n",
       "      <td>Eat Healthy During Pregnancy: Quick tips When ...</td>\n",
       "      <td>3</td>\n",
       "      <td>1</td>\n",
       "    </tr>\n",
       "    <tr>\n",
       "      <th>50</th>\n",
       "      <td>Which foods to eat and avoid during pregnancy ...</td>\n",
       "      <td>1</td>\n",
       "      <td>1</td>\n",
       "    </tr>\n",
       "    <tr>\n",
       "      <th>51</th>\n",
       "      <td>Eating Right When Pregnant Good nutrition duri...</td>\n",
       "      <td>4</td>\n",
       "      <td>1</td>\n",
       "    </tr>\n",
       "    <tr>\n",
       "      <th>52</th>\n",
       "      <td>Eating Right During Pregnancy The 40 (or so) w...</td>\n",
       "      <td>4</td>\n",
       "      <td>1</td>\n",
       "    </tr>\n",
       "    <tr>\n",
       "      <th>53</th>\n",
       "      <td>Meal planning during pregnancy It's easy to fe...</td>\n",
       "      <td>3</td>\n",
       "      <td>1</td>\n",
       "    </tr>\n",
       "    <tr>\n",
       "      <th>54</th>\n",
       "      <td>The Foods to Avoid When You’re Pregnant Pregna...</td>\n",
       "      <td>1</td>\n",
       "      <td>1</td>\n",
       "    </tr>\n",
       "    <tr>\n",
       "      <th>55</th>\n",
       "      <td>Diet During Pregnancy What does diet during pr...</td>\n",
       "      <td>2</td>\n",
       "      <td>1</td>\n",
       "    </tr>\n",
       "    <tr>\n",
       "      <th>56</th>\n",
       "      <td>Healthy Eating During Pregnancy If you’re conc...</td>\n",
       "      <td>1</td>\n",
       "      <td>1</td>\n",
       "    </tr>\n",
       "    <tr>\n",
       "      <th>57</th>\n",
       "      <td>Nutrition Before Pregnancy Becoming healthy be...</td>\n",
       "      <td>5</td>\n",
       "      <td>1</td>\n",
       "    </tr>\n",
       "    <tr>\n",
       "      <th>58</th>\n",
       "      <td>Nutrition During Pregnancy The importance of g...</td>\n",
       "      <td>3</td>\n",
       "      <td>1</td>\n",
       "    </tr>\n",
       "    <tr>\n",
       "      <th>59</th>\n",
       "      <td>Pregnancy Vitamins and Nutrients A balanced nu...</td>\n",
       "      <td>5</td>\n",
       "      <td>1</td>\n",
       "    </tr>\n",
       "  </tbody>\n",
       "</table>\n",
       "</div>"
      ],
      "text/plain": [
       "                                       title_and_text  fold  Tag\n",
       "47  Eating Right Before and During Pregnancy It is...     2    1\n",
       "48  Healthy Eating and Pregnancy Eating for two is...     4    1\n",
       "49  Eat Healthy During Pregnancy: Quick tips When ...     3    1\n",
       "50  Which foods to eat and avoid during pregnancy ...     1    1\n",
       "51  Eating Right When Pregnant Good nutrition duri...     4    1\n",
       "52  Eating Right During Pregnancy The 40 (or so) w...     4    1\n",
       "53  Meal planning during pregnancy It's easy to fe...     3    1\n",
       "54  The Foods to Avoid When You’re Pregnant Pregna...     1    1\n",
       "55  Diet During Pregnancy What does diet during pr...     2    1\n",
       "56  Healthy Eating During Pregnancy If you’re conc...     1    1\n",
       "57  Nutrition Before Pregnancy Becoming healthy be...     5    1\n",
       "58  Nutrition During Pregnancy The importance of g...     3    1\n",
       "59  Pregnancy Vitamins and Nutrients A balanced nu...     5    1"
      ]
     },
     "execution_count": 72,
     "metadata": {},
     "output_type": "execute_result"
    }
   ],
   "source": [
    "df3= df.iloc[47:60, :]\n",
    "df3"
   ]
  },
  {
   "cell_type": "code",
   "execution_count": 73,
   "id": "92610582",
   "metadata": {
    "scrolled": true
   },
   "outputs": [
    {
     "name": "stderr",
     "output_type": "stream",
     "text": [
      "WARNING:urllib3.connectionpool:Connection pool is full, discarding connection: localhost\n",
      "WARNING:urllib3.connectionpool:Connection pool is full, discarding connection: localhost\n",
      "WARNING:urllib3.connectionpool:Connection pool is full, discarding connection: localhost\n",
      "WARNING:urllib3.connectionpool:Connection pool is full, discarding connection: localhost\n",
      "WARNING:urllib3.connectionpool:Connection pool is full, discarding connection: localhost\n"
     ]
    },
    {
     "ename": "TimeoutException",
     "evalue": "Message: \nStacktrace:\n0   7cf994f777aed4b7_chromedriver       0x000000010ad21f38 7cf994f777aed4b7_chromedriver + 4910904\n1   7cf994f777aed4b7_chromedriver       0x000000010aca1a03 7cf994f777aed4b7_chromedriver + 4385283\n2   7cf994f777aed4b7_chromedriver       0x000000010a8e6747 7cf994f777aed4b7_chromedriver + 472903\n3   7cf994f777aed4b7_chromedriver       0x000000010a92b34c 7cf994f777aed4b7_chromedriver + 754508\n4   7cf994f777aed4b7_chromedriver       0x000000010a92b5a1 7cf994f777aed4b7_chromedriver + 755105\n5   7cf994f777aed4b7_chromedriver       0x000000010a96ee94 7cf994f777aed4b7_chromedriver + 1031828\n6   7cf994f777aed4b7_chromedriver       0x000000010a95113d 7cf994f777aed4b7_chromedriver + 909629\n7   7cf994f777aed4b7_chromedriver       0x000000010a96c28e 7cf994f777aed4b7_chromedriver + 1020558\n8   7cf994f777aed4b7_chromedriver       0x000000010a950ee3 7cf994f777aed4b7_chromedriver + 909027\n9   7cf994f777aed4b7_chromedriver       0x000000010a91b30c 7cf994f777aed4b7_chromedriver + 688908\n10  7cf994f777aed4b7_chromedriver       0x000000010a91c88e 7cf994f777aed4b7_chromedriver + 694414\n11  7cf994f777aed4b7_chromedriver       0x000000010acef1de 7cf994f777aed4b7_chromedriver + 4702686\n12  7cf994f777aed4b7_chromedriver       0x000000010acf3b19 7cf994f777aed4b7_chromedriver + 4721433\n13  7cf994f777aed4b7_chromedriver       0x000000010acfb28e 7cf994f777aed4b7_chromedriver + 4752014\n14  7cf994f777aed4b7_chromedriver       0x000000010acf491a 7cf994f777aed4b7_chromedriver + 4725018\n15  7cf994f777aed4b7_chromedriver       0x000000010acc8b02 7cf994f777aed4b7_chromedriver + 4545282\n16  7cf994f777aed4b7_chromedriver       0x000000010ad13888 7cf994f777aed4b7_chromedriver + 4851848\n17  7cf994f777aed4b7_chromedriver       0x000000010ad13a05 7cf994f777aed4b7_chromedriver + 4852229\n18  7cf994f777aed4b7_chromedriver       0x000000010ad29e5f 7cf994f777aed4b7_chromedriver + 4943455\n19  libsystem_pthread.dylib             0x00007ff814ab04e1 _pthread_start + 125\n20  libsystem_pthread.dylib             0x00007ff814aabf6b thread_start + 15\n",
     "output_type": "error",
     "traceback": [
      "\u001b[0;31m---------------------------------------------------------------------------\u001b[0m",
      "\u001b[0;31mTimeoutException\u001b[0m                          Traceback (most recent call last)",
      "\u001b[0;32m/var/folders/4h/njy_tpyd4dx8jgyfcxhcnd1h0000gn/T/ipykernel_8769/819435221.py\u001b[0m in \u001b[0;36m<module>\u001b[0;34m\u001b[0m\n\u001b[1;32m      6\u001b[0m   \u001b[0mtext\u001b[0m \u001b[0;34m=\u001b[0m \u001b[0mrow\u001b[0m\u001b[0;34m[\u001b[0m\u001b[0;34m'title_and_text'\u001b[0m\u001b[0;34m]\u001b[0m\u001b[0;34m\u001b[0m\u001b[0;34m\u001b[0m\u001b[0m\n\u001b[1;32m      7\u001b[0m   \u001b[0mprompt\u001b[0m \u001b[0;34m=\u001b[0m \u001b[0;34mf\"Only give one word answer on which category does this text belongs to in diet, exercise, mental-health and others: {text}\"\u001b[0m\u001b[0;34m\u001b[0m\u001b[0;34m\u001b[0m\u001b[0m\n\u001b[0;32m----> 8\u001b[0;31m   \u001b[0mresp\u001b[0m\u001b[0;34m=\u001b[0m\u001b[0mapi\u001b[0m\u001b[0;34m.\u001b[0m\u001b[0msend_message\u001b[0m\u001b[0;34m(\u001b[0m\u001b[0mprompt\u001b[0m\u001b[0;34m)\u001b[0m\u001b[0;34m\u001b[0m\u001b[0;34m\u001b[0m\u001b[0m\n\u001b[0m\u001b[1;32m      9\u001b[0m   \u001b[0moutput3\u001b[0m\u001b[0;34m.\u001b[0m\u001b[0mappend\u001b[0m\u001b[0;34m(\u001b[0m\u001b[0mresp\u001b[0m\u001b[0;34m[\u001b[0m\u001b[0;34m\"message\"\u001b[0m\u001b[0;34m]\u001b[0m\u001b[0;34m)\u001b[0m\u001b[0;34m\u001b[0m\u001b[0;34m\u001b[0m\u001b[0m\n",
      "\u001b[0;32m~/opt/anaconda3/lib/python3.9/site-packages/pyChatGPT/pyChatGPT.py\u001b[0m in \u001b[0;36msend_message\u001b[0;34m(self, message)\u001b[0m\n\u001b[1;32m    578\u001b[0m         \u001b[0;31m# Send the message\u001b[0m\u001b[0;34m\u001b[0m\u001b[0;34m\u001b[0m\u001b[0m\n\u001b[1;32m    579\u001b[0m         \u001b[0mself\u001b[0m\u001b[0;34m.\u001b[0m\u001b[0m__verbose_print\u001b[0m\u001b[0;34m(\u001b[0m\u001b[0;34m'[send_msg] Sending message'\u001b[0m\u001b[0;34m)\u001b[0m\u001b[0;34m\u001b[0m\u001b[0;34m\u001b[0m\u001b[0m\n\u001b[0;32m--> 580\u001b[0;31m         WebDriverWait(self.driver, 5).until(\n\u001b[0m\u001b[1;32m    581\u001b[0m             \u001b[0mEC\u001b[0m\u001b[0;34m.\u001b[0m\u001b[0melement_to_be_clickable\u001b[0m\u001b[0;34m(\u001b[0m\u001b[0;34m(\u001b[0m\u001b[0mBy\u001b[0m\u001b[0;34m.\u001b[0m\u001b[0mTAG_NAME\u001b[0m\u001b[0;34m,\u001b[0m \u001b[0;34m'textarea'\u001b[0m\u001b[0;34m)\u001b[0m\u001b[0;34m)\u001b[0m\u001b[0;34m\u001b[0m\u001b[0;34m\u001b[0m\u001b[0m\n\u001b[1;32m    582\u001b[0m         )\n",
      "\u001b[0;32m~/opt/anaconda3/lib/python3.9/site-packages/selenium/webdriver/support/wait.py\u001b[0m in \u001b[0;36muntil\u001b[0;34m(self, method, message)\u001b[0m\n\u001b[1;32m     93\u001b[0m             \u001b[0;32mif\u001b[0m \u001b[0mtime\u001b[0m\u001b[0;34m.\u001b[0m\u001b[0mmonotonic\u001b[0m\u001b[0;34m(\u001b[0m\u001b[0;34m)\u001b[0m \u001b[0;34m>\u001b[0m \u001b[0mend_time\u001b[0m\u001b[0;34m:\u001b[0m\u001b[0;34m\u001b[0m\u001b[0;34m\u001b[0m\u001b[0m\n\u001b[1;32m     94\u001b[0m                 \u001b[0;32mbreak\u001b[0m\u001b[0;34m\u001b[0m\u001b[0;34m\u001b[0m\u001b[0m\n\u001b[0;32m---> 95\u001b[0;31m         \u001b[0;32mraise\u001b[0m \u001b[0mTimeoutException\u001b[0m\u001b[0;34m(\u001b[0m\u001b[0mmessage\u001b[0m\u001b[0;34m,\u001b[0m \u001b[0mscreen\u001b[0m\u001b[0;34m,\u001b[0m \u001b[0mstacktrace\u001b[0m\u001b[0;34m)\u001b[0m\u001b[0;34m\u001b[0m\u001b[0;34m\u001b[0m\u001b[0m\n\u001b[0m\u001b[1;32m     96\u001b[0m \u001b[0;34m\u001b[0m\u001b[0m\n\u001b[1;32m     97\u001b[0m     \u001b[0;32mdef\u001b[0m \u001b[0muntil_not\u001b[0m\u001b[0;34m(\u001b[0m\u001b[0mself\u001b[0m\u001b[0;34m,\u001b[0m \u001b[0mmethod\u001b[0m\u001b[0;34m,\u001b[0m \u001b[0mmessage\u001b[0m\u001b[0;34m:\u001b[0m \u001b[0mstr\u001b[0m \u001b[0;34m=\u001b[0m \u001b[0;34m\"\"\u001b[0m\u001b[0;34m)\u001b[0m\u001b[0;34m:\u001b[0m\u001b[0;34m\u001b[0m\u001b[0;34m\u001b[0m\u001b[0m\n",
      "\u001b[0;31mTimeoutException\u001b[0m: Message: \nStacktrace:\n0   7cf994f777aed4b7_chromedriver       0x000000010ad21f38 7cf994f777aed4b7_chromedriver + 4910904\n1   7cf994f777aed4b7_chromedriver       0x000000010aca1a03 7cf994f777aed4b7_chromedriver + 4385283\n2   7cf994f777aed4b7_chromedriver       0x000000010a8e6747 7cf994f777aed4b7_chromedriver + 472903\n3   7cf994f777aed4b7_chromedriver       0x000000010a92b34c 7cf994f777aed4b7_chromedriver + 754508\n4   7cf994f777aed4b7_chromedriver       0x000000010a92b5a1 7cf994f777aed4b7_chromedriver + 755105\n5   7cf994f777aed4b7_chromedriver       0x000000010a96ee94 7cf994f777aed4b7_chromedriver + 1031828\n6   7cf994f777aed4b7_chromedriver       0x000000010a95113d 7cf994f777aed4b7_chromedriver + 909629\n7   7cf994f777aed4b7_chromedriver       0x000000010a96c28e 7cf994f777aed4b7_chromedriver + 1020558\n8   7cf994f777aed4b7_chromedriver       0x000000010a950ee3 7cf994f777aed4b7_chromedriver + 909027\n9   7cf994f777aed4b7_chromedriver       0x000000010a91b30c 7cf994f777aed4b7_chromedriver + 688908\n10  7cf994f777aed4b7_chromedriver       0x000000010a91c88e 7cf994f777aed4b7_chromedriver + 694414\n11  7cf994f777aed4b7_chromedriver       0x000000010acef1de 7cf994f777aed4b7_chromedriver + 4702686\n12  7cf994f777aed4b7_chromedriver       0x000000010acf3b19 7cf994f777aed4b7_chromedriver + 4721433\n13  7cf994f777aed4b7_chromedriver       0x000000010acfb28e 7cf994f777aed4b7_chromedriver + 4752014\n14  7cf994f777aed4b7_chromedriver       0x000000010acf491a 7cf994f777aed4b7_chromedriver + 4725018\n15  7cf994f777aed4b7_chromedriver       0x000000010acc8b02 7cf994f777aed4b7_chromedriver + 4545282\n16  7cf994f777aed4b7_chromedriver       0x000000010ad13888 7cf994f777aed4b7_chromedriver + 4851848\n17  7cf994f777aed4b7_chromedriver       0x000000010ad13a05 7cf994f777aed4b7_chromedriver + 4852229\n18  7cf994f777aed4b7_chromedriver       0x000000010ad29e5f 7cf994f777aed4b7_chromedriver + 4943455\n19  libsystem_pthread.dylib             0x00007ff814ab04e1 _pthread_start + 125\n20  libsystem_pthread.dylib             0x00007ff814aabf6b thread_start + 15\n"
     ]
    }
   ],
   "source": [
    "# Add a new column to the dataframe to store the classification\n",
    "api= ChatGPT(session_token)\n",
    "output3=[]\n",
    "# Iterate over the rows in the dataframe and use the OpenAI API to classify each text as related to pregnancy or not\n",
    "for index , row in df3.iterrows():\n",
    "  text = row['title_and_text']\n",
    "  prompt = f\"Only give one word answer on which category does this text belongs to in diet, exercise, mental-health and others: {text}\"\n",
    "  resp=api.send_message(prompt)\n",
    "  output3.append(resp[\"message\"])"
   ]
  },
  {
   "cell_type": "code",
   "execution_count": 74,
   "id": "8d0e13e2",
   "metadata": {
    "scrolled": true
   },
   "outputs": [
    {
     "data": {
      "text/plain": [
       "['Diet.\\n\\n', 'Diet.\\n\\n', 'Diet.\\n\\n', 'Diet.\\n\\n', 'Diet.\\n\\n']"
      ]
     },
     "execution_count": 74,
     "metadata": {},
     "output_type": "execute_result"
    }
   ],
   "source": [
    "output3"
   ]
  }
 ],
 "metadata": {
  "kernelspec": {
   "display_name": "Python 3 (ipykernel)",
   "language": "python",
   "name": "python3"
  },
  "language_info": {
   "codemirror_mode": {
    "name": "ipython",
    "version": 3
   },
   "file_extension": ".py",
   "mimetype": "text/x-python",
   "name": "python",
   "nbconvert_exporter": "python",
   "pygments_lexer": "ipython3",
   "version": "3.9.7"
  }
 },
 "nbformat": 4,
 "nbformat_minor": 5
}
