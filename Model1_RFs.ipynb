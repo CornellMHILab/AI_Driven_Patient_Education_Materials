{
  "cells": [
    {
      "cell_type": "markdown",
      "source": [
        "# Model 1 - Binary Classification"
      ],
      "metadata": {
        "id": "yigjDZm0b-u0"
      },
      "id": "yigjDZm0b-u0"
    },
    {
      "cell_type": "code",
      "source": [
        "from google.colab import files\n",
        "uploaded = files.upload()"
      ],
      "metadata": {
        "id": "ppEaDqy8_dLo"
      },
      "id": "ppEaDqy8_dLo",
      "execution_count": null,
      "outputs": []
    },
    {
      "cell_type": "code",
      "execution_count": null,
      "id": "7ce2631c",
      "metadata": {
        "colab": {
          "base_uri": "https://localhost:8080/",
          "height": 424
        },
        "id": "7ce2631c",
        "outputId": "e19dfd93-9517-410e-85ae-47ef10a40386"
      },
      "outputs": [
        {
          "output_type": "execute_result",
          "data": {
            "text/plain": [
              "                                                 Title  \\\n",
              "0                  10 High Calcium Foods For Pregnancy   \n",
              "1                     10 Green Smoothies For Pregnancy   \n",
              "2                     5 Calcium Benefits For Pregnancy   \n",
              "3                                    DHA and Pregnancy   \n",
              "4            Is A Cup Of Coffee Safe During Pregnancy?   \n",
              "..                                                 ...   \n",
              "818           7 Foods You Should Eat If You're Over 50   \n",
              "819             The 5 Best Foods for Women as They Age   \n",
              "820  6 Fruits All Women In 20's, 30's, 40's And Bey...   \n",
              "821   How nutritional needs for women change with age?   \n",
              "822     7 Health Tips Every Woman Should Take to Heart   \n",
              "\n",
              "                                                  Text  Tag  \n",
              "0    If there’s one thing we can’t stress enough, i...    1  \n",
              "1    Yummmm…who doesn’t love a delicious and refres...    1  \n",
              "2    The pregnant body is amazing, powerful, and dy...    1  \n",
              "3    If there’s anything we know for sure, it’s tha...    1  \n",
              "4    Understandably, giving up coffee when pregnant...    1  \n",
              "..                                                 ...  ...  \n",
              "818  \"In youth, it's all about growth and maintaini...    4  \n",
              "819  Remember the healthy things your mom did for y...    4  \n",
              "820  Women are blessed with a dynamic personality. ...    4  \n",
              "821  As children, nutritional needs for boys and gi...    4  \n",
              "822  Many women fall into the habit of taking care ...    4  \n",
              "\n",
              "[823 rows x 3 columns]"
            ],
            "text/html": [
              "\n",
              "  <div id=\"df-0f744b52-37c9-4888-812f-3626ed4bcf45\">\n",
              "    <div class=\"colab-df-container\">\n",
              "      <div>\n",
              "<style scoped>\n",
              "    .dataframe tbody tr th:only-of-type {\n",
              "        vertical-align: middle;\n",
              "    }\n",
              "\n",
              "    .dataframe tbody tr th {\n",
              "        vertical-align: top;\n",
              "    }\n",
              "\n",
              "    .dataframe thead th {\n",
              "        text-align: right;\n",
              "    }\n",
              "</style>\n",
              "<table border=\"1\" class=\"dataframe\">\n",
              "  <thead>\n",
              "    <tr style=\"text-align: right;\">\n",
              "      <th></th>\n",
              "      <th>Title</th>\n",
              "      <th>Text</th>\n",
              "      <th>Tag</th>\n",
              "    </tr>\n",
              "  </thead>\n",
              "  <tbody>\n",
              "    <tr>\n",
              "      <th>0</th>\n",
              "      <td>10 High Calcium Foods For Pregnancy</td>\n",
              "      <td>If there’s one thing we can’t stress enough, i...</td>\n",
              "      <td>1</td>\n",
              "    </tr>\n",
              "    <tr>\n",
              "      <th>1</th>\n",
              "      <td>10 Green Smoothies For Pregnancy</td>\n",
              "      <td>Yummmm…who doesn’t love a delicious and refres...</td>\n",
              "      <td>1</td>\n",
              "    </tr>\n",
              "    <tr>\n",
              "      <th>2</th>\n",
              "      <td>5 Calcium Benefits For Pregnancy</td>\n",
              "      <td>The pregnant body is amazing, powerful, and dy...</td>\n",
              "      <td>1</td>\n",
              "    </tr>\n",
              "    <tr>\n",
              "      <th>3</th>\n",
              "      <td>DHA and Pregnancy</td>\n",
              "      <td>If there’s anything we know for sure, it’s tha...</td>\n",
              "      <td>1</td>\n",
              "    </tr>\n",
              "    <tr>\n",
              "      <th>4</th>\n",
              "      <td>Is A Cup Of Coffee Safe During Pregnancy?</td>\n",
              "      <td>Understandably, giving up coffee when pregnant...</td>\n",
              "      <td>1</td>\n",
              "    </tr>\n",
              "    <tr>\n",
              "      <th>...</th>\n",
              "      <td>...</td>\n",
              "      <td>...</td>\n",
              "      <td>...</td>\n",
              "    </tr>\n",
              "    <tr>\n",
              "      <th>818</th>\n",
              "      <td>7 Foods You Should Eat If You're Over 50</td>\n",
              "      <td>\"In youth, it's all about growth and maintaini...</td>\n",
              "      <td>4</td>\n",
              "    </tr>\n",
              "    <tr>\n",
              "      <th>819</th>\n",
              "      <td>The 5 Best Foods for Women as They Age</td>\n",
              "      <td>Remember the healthy things your mom did for y...</td>\n",
              "      <td>4</td>\n",
              "    </tr>\n",
              "    <tr>\n",
              "      <th>820</th>\n",
              "      <td>6 Fruits All Women In 20's, 30's, 40's And Bey...</td>\n",
              "      <td>Women are blessed with a dynamic personality. ...</td>\n",
              "      <td>4</td>\n",
              "    </tr>\n",
              "    <tr>\n",
              "      <th>821</th>\n",
              "      <td>How nutritional needs for women change with age?</td>\n",
              "      <td>As children, nutritional needs for boys and gi...</td>\n",
              "      <td>4</td>\n",
              "    </tr>\n",
              "    <tr>\n",
              "      <th>822</th>\n",
              "      <td>7 Health Tips Every Woman Should Take to Heart</td>\n",
              "      <td>Many women fall into the habit of taking care ...</td>\n",
              "      <td>4</td>\n",
              "    </tr>\n",
              "  </tbody>\n",
              "</table>\n",
              "<p>823 rows × 3 columns</p>\n",
              "</div>\n",
              "      <button class=\"colab-df-convert\" onclick=\"convertToInteractive('df-0f744b52-37c9-4888-812f-3626ed4bcf45')\"\n",
              "              title=\"Convert this dataframe to an interactive table.\"\n",
              "              style=\"display:none;\">\n",
              "        \n",
              "  <svg xmlns=\"http://www.w3.org/2000/svg\" height=\"24px\"viewBox=\"0 0 24 24\"\n",
              "       width=\"24px\">\n",
              "    <path d=\"M0 0h24v24H0V0z\" fill=\"none\"/>\n",
              "    <path d=\"M18.56 5.44l.94 2.06.94-2.06 2.06-.94-2.06-.94-.94-2.06-.94 2.06-2.06.94zm-11 1L8.5 8.5l.94-2.06 2.06-.94-2.06-.94L8.5 2.5l-.94 2.06-2.06.94zm10 10l.94 2.06.94-2.06 2.06-.94-2.06-.94-.94-2.06-.94 2.06-2.06.94z\"/><path d=\"M17.41 7.96l-1.37-1.37c-.4-.4-.92-.59-1.43-.59-.52 0-1.04.2-1.43.59L10.3 9.45l-7.72 7.72c-.78.78-.78 2.05 0 2.83L4 21.41c.39.39.9.59 1.41.59.51 0 1.02-.2 1.41-.59l7.78-7.78 2.81-2.81c.8-.78.8-2.07 0-2.86zM5.41 20L4 18.59l7.72-7.72 1.47 1.35L5.41 20z\"/>\n",
              "  </svg>\n",
              "      </button>\n",
              "      \n",
              "  <style>\n",
              "    .colab-df-container {\n",
              "      display:flex;\n",
              "      flex-wrap:wrap;\n",
              "      gap: 12px;\n",
              "    }\n",
              "\n",
              "    .colab-df-convert {\n",
              "      background-color: #E8F0FE;\n",
              "      border: none;\n",
              "      border-radius: 50%;\n",
              "      cursor: pointer;\n",
              "      display: none;\n",
              "      fill: #1967D2;\n",
              "      height: 32px;\n",
              "      padding: 0 0 0 0;\n",
              "      width: 32px;\n",
              "    }\n",
              "\n",
              "    .colab-df-convert:hover {\n",
              "      background-color: #E2EBFA;\n",
              "      box-shadow: 0px 1px 2px rgba(60, 64, 67, 0.3), 0px 1px 3px 1px rgba(60, 64, 67, 0.15);\n",
              "      fill: #174EA6;\n",
              "    }\n",
              "\n",
              "    [theme=dark] .colab-df-convert {\n",
              "      background-color: #3B4455;\n",
              "      fill: #D2E3FC;\n",
              "    }\n",
              "\n",
              "    [theme=dark] .colab-df-convert:hover {\n",
              "      background-color: #434B5C;\n",
              "      box-shadow: 0px 1px 3px 1px rgba(0, 0, 0, 0.15);\n",
              "      filter: drop-shadow(0px 1px 2px rgba(0, 0, 0, 0.3));\n",
              "      fill: #FFFFFF;\n",
              "    }\n",
              "  </style>\n",
              "\n",
              "      <script>\n",
              "        const buttonEl =\n",
              "          document.querySelector('#df-0f744b52-37c9-4888-812f-3626ed4bcf45 button.colab-df-convert');\n",
              "        buttonEl.style.display =\n",
              "          google.colab.kernel.accessAllowed ? 'block' : 'none';\n",
              "\n",
              "        async function convertToInteractive(key) {\n",
              "          const element = document.querySelector('#df-0f744b52-37c9-4888-812f-3626ed4bcf45');\n",
              "          const dataTable =\n",
              "            await google.colab.kernel.invokeFunction('convertToInteractive',\n",
              "                                                     [key], {});\n",
              "          if (!dataTable) return;\n",
              "\n",
              "          const docLinkHtml = 'Like what you see? Visit the ' +\n",
              "            '<a target=\"_blank\" href=https://colab.research.google.com/notebooks/data_table.ipynb>data table notebook</a>'\n",
              "            + ' to learn more about interactive tables.';\n",
              "          element.innerHTML = '';\n",
              "          dataTable['output_type'] = 'display_data';\n",
              "          await google.colab.output.renderOutput(dataTable, element);\n",
              "          const docLink = document.createElement('div');\n",
              "          docLink.innerHTML = docLinkHtml;\n",
              "          element.appendChild(docLink);\n",
              "        }\n",
              "      </script>\n",
              "    </div>\n",
              "  </div>\n",
              "  "
            ]
          },
          "metadata": {},
          "execution_count": 3
        }
      ],
      "source": [
        "# read data\n",
        "import pandas as pd\n",
        "import numpy as np\n",
        "df = pd.read_excel(\"Model1.xlsx\")\n",
        "df = df.sample(frac=1, random_state=0)\n",
        "df"
      ]
    },
    {
      "cell_type": "markdown",
      "source": [
        "## Statistics of Sentences and Words"
      ],
      "metadata": {
        "id": "bUHNXD00cYXx"
      },
      "id": "bUHNXD00cYXx"
    },
    {
      "cell_type": "code",
      "source": [
        "import nltk"
      ],
      "metadata": {
        "id": "tTPc5LvrQ_zh"
      },
      "id": "tTPc5LvrQ_zh",
      "execution_count": null,
      "outputs": []
    },
    {
      "cell_type": "code",
      "source": [
        "nltk.download('punkt')"
      ],
      "metadata": {
        "id": "ez4nVKDgQ8Pm"
      },
      "id": "ez4nVKDgQ8Pm",
      "execution_count": null,
      "outputs": []
    },
    {
      "cell_type": "code",
      "source": [
        "from nltk.tokenize import sent_tokenize, word_tokenize"
      ],
      "metadata": {
        "id": "L5EycLCxQmoY"
      },
      "id": "L5EycLCxQmoY",
      "execution_count": null,
      "outputs": []
    },
    {
      "cell_type": "code",
      "source": [
        "stop_words = set(\n",
        "    \"\"\"\n",
        "a about above across after afterwards again against all almost alone along\n",
        "already also although always am among amongst amount an and another any anyhow\n",
        "anyone anything anyway anywhere are around as at\n",
        "back be became because become becomes becoming been before beforehand behind\n",
        "being below beside besides between beyond both bottom but by\n",
        "call can cannot ca could\n",
        "did do does doing done down due during\n",
        "each eight either eleven else elsewhere empty enough even ever every\n",
        "everyone everything everywhere except\n",
        "few fifteen fifty first five for former formerly forty four from front full\n",
        "further\n",
        "get give go\n",
        "had has have he hence her here hereafter hereby herein hereupon hers herself\n",
        "him himself his how however hundred\n",
        "i if in indeed into is it its itself\n",
        "keep\n",
        "last latter latterly least less\n",
        "just\n",
        "made make many may me meanwhile might mine more moreover most mostly move much\n",
        "must my myself\n",
        "name namely neither never nevertheless next nine no nobody none noone nor not\n",
        "nothing now nowhere\n",
        "of off often on once one only onto or other others otherwise our ours ourselves\n",
        "out over own\n",
        "part per perhaps please put\n",
        "quite\n",
        "rather re really regarding\n",
        "same say see seem seemed seeming seems serious several she should show side\n",
        "since six sixty so some somehow someone something sometime sometimes somewhere\n",
        "still such\n",
        "take ten than that the their them themselves then thence there thereafter\n",
        "thereby therefore therein thereupon these they third this those though three\n",
        "through throughout thru thus to together too top toward towards twelve twenty\n",
        "two\n",
        "under until up unless upon us used using\n",
        "various very very via was we well were what whatever when whence whenever where\n",
        "whereafter whereas whereby wherein whereupon wherever whether which while\n",
        "whither who whoever whole whom whose why will with within without would\n",
        "yet you your yours yourself yourselves\n",
        "\"\"\".split()\n",
        ")\n",
        "\n",
        "print(len(stop_words))"
      ],
      "metadata": {
        "id": "c9CkELqRobC3"
      },
      "id": "c9CkELqRobC3",
      "execution_count": null,
      "outputs": []
    },
    {
      "cell_type": "code",
      "source": [
        "from nltk.stem import WordNetLemmatizer\n",
        "from nltk.corpus import stopwords\n",
        "\n",
        "nltk.download('stopwords')\n",
        "stop_words = set(stopwords.words('english')) \n",
        "\n",
        "# Callable that can be passed to the Vectorizer \n",
        "class LemmaTokenizer:\n",
        "    ignore_tokens = [',', '.', ';', ':', '\"', '``', \"''\", '`','--']\n",
        "    def __init__(self):\n",
        "        self.wnl = WordNetLemmatizer()\n",
        "    def __call__(self, doc):\n",
        "        return [self.wnl.lemmatize(t) for t in word_tokenize(doc) if t not in self.ignore_tokens]"
      ],
      "metadata": {
        "id": "JAgdYEFsoc7o"
      },
      "id": "JAgdYEFsoc7o",
      "execution_count": null,
      "outputs": []
    },
    {
      "cell_type": "code",
      "source": [
        "# Lemmatize the stop words and store them in a list so that list can be passed to Vectorizer\n",
        "tokenizer = LemmaTokenizer()\n",
        "nltk.download('wordnet')\n",
        "nltk.download('omw-1.4')\n",
        "# Storing all stop words in a list \n",
        "token_stop = tokenizer(' '.join(stop_words))"
      ],
      "metadata": {
        "id": "OoIWaP0Ko3Es"
      },
      "id": "OoIWaP0Ko3Es",
      "execution_count": null,
      "outputs": []
    },
    {
      "cell_type": "code",
      "source": [
        "# 5-fold assign values\n",
        "fold_values = [1,2,3,4,5] * 164 + [1,2,3]\n",
        "df[\"fold\"] = fold_values\n",
        "df.head()"
      ],
      "metadata": {
        "id": "FpGfgJsVBGuB"
      },
      "id": "FpGfgJsVBGuB",
      "execution_count": null,
      "outputs": []
    },
    {
      "cell_type": "code",
      "source": [
        "# Distribution by fold and tag\n",
        "fold_crosstab = pd.crosstab(index=df[\"Tag\"],columns=df[\"fold\"],margins=True)\n",
        "fold_crosstab"
      ],
      "metadata": {
        "id": "ffucKrX-uPJu"
      },
      "id": "ffucKrX-uPJu",
      "execution_count": null,
      "outputs": []
    },
    {
      "cell_type": "code",
      "source": [
        "x_train = df[df['fold'] != 1].title_and_text.tolist()\n",
        "x_test = df[df['fold'] == 1].title_and_text.tolist()\n",
        "y_train = df[df['fold'] != 1].Tag.tolist()\n",
        "y_test = df[df['fold'] == 1].Tag.tolist()\n",
        "\n",
        "print(len(x_train))\n",
        "print(len(x_test))\n",
        "print(len(y_train))\n",
        "print(len(y_test))"
      ],
      "metadata": {
        "id": "1usYmxO2Ecbw"
      },
      "id": "1usYmxO2Ecbw",
      "execution_count": null,
      "outputs": []
    },
    {
      "cell_type": "markdown",
      "source": [
        "## TF-IDF Vectorization"
      ],
      "metadata": {
        "id": "pyEN1Ni2rBnR"
      },
      "id": "pyEN1Ni2rBnR"
    },
    {
      "cell_type": "code",
      "source": [
        "from sklearn.feature_extraction.text import CountVectorizer\n",
        "\n",
        "# We are excluding words which have very minimal frequency (< 4)\n",
        "# Tune as needed after receiving feedback\n",
        "# Computing unigrams and bigrams\n",
        "# Capping Dimensionality at 1500 features\n",
        "\n",
        "from sklearn.feature_extraction.text import TfidfVectorizer\n",
        "tfidf_vectorizer = TfidfVectorizer(stop_words=token_stop, \n",
        "                                   tokenizer = tokenizer, \n",
        "                                   ngram_range = (1,2), \n",
        "                                   min_df = 1,\n",
        "                                   max_features = 1500)\n",
        "\n",
        "X = tfidf_vectorizer.fit_transform(x_train)\n",
        "print('Training documents have', len(tfidf_vectorizer.vocabulary_), 'words')\n",
        "print('X:', X.shape)"
      ],
      "metadata": {
        "id": "ilrOEu0Eq5MR"
      },
      "id": "ilrOEu0Eq5MR",
      "execution_count": null,
      "outputs": []
    },
    {
      "cell_type": "markdown",
      "source": [
        "## Random Forest Classifier"
      ],
      "metadata": {
        "id": "AOudDOdfrcFn"
      },
      "id": "AOudDOdfrcFn"
    },
    {
      "cell_type": "code",
      "source": [
        "from sklearn.ensemble import RandomForestClassifier\n",
        "from sklearn.model_selection import GridSearchCV\n",
        "\n",
        "RFC = RandomForestClassifier(n_estimators = 200, \n",
        "                             criterion = 'gini', \n",
        "                             random_state = 0,\n",
        "                             n_jobs = - 1)\n",
        "RFC.fit(X,y_train)"
      ],
      "metadata": {
        "id": "cAjSd5UnqtZw"
      },
      "id": "cAjSd5UnqtZw",
      "execution_count": null,
      "outputs": []
    },
    {
      "cell_type": "code",
      "source": [
        "x_test = tfidf_vectorizer.transform(x_test)"
      ],
      "metadata": {
        "id": "CdEIOMI3I_k1"
      },
      "id": "CdEIOMI3I_k1",
      "execution_count": null,
      "outputs": []
    },
    {
      "cell_type": "code",
      "source": [
        "from sklearn.metrics import precision_recall_fscore_support\n",
        "from sklearn.metrics import accuracy_score\n",
        "\n",
        "y_pred = RFC.predict(x_test)\n",
        "accuracy = accuracy_score(y_test, y_pred)\n",
        "pre, recall, f1, support = precision_recall_fscore_support(y_test, y_pred)\n",
        "print('Precision: ' , pre)\n",
        "print('Recall:    ' , recall)\n",
        "print('F1:        ' , f1)"
      ],
      "metadata": {
        "id": "F0tXS5xYICaD"
      },
      "id": "F0tXS5xYICaD",
      "execution_count": null,
      "outputs": []
    },
    {
      "cell_type": "code",
      "source": [
        "from sklearn.metrics import confusion_matrix\n",
        "cf_matrix =  confusion_matrix(y_test, y_pred, labels=[1, 4])\n",
        "\n",
        "# Presenting the Confusion Matrix as a Dataframe\n",
        "# Horizontal Labels = Predicted Labels\n",
        "# Vertical Labels   = Ground Truth Labels\n",
        "pd.DataFrame(cf_matrix, index=[\"Related\", \"Unrelated\"], columns=[\"Related\", \"Unrelated\"])"
      ],
      "metadata": {
        "id": "n-J0XZ2UJqXC"
      },
      "id": "n-J0XZ2UJqXC",
      "execution_count": null,
      "outputs": []
    },
    {
      "cell_type": "code",
      "source": [
        "from sklearn.metrics import classification_report\n",
        "print(classification_report(y_test, y_pred, \n",
        "                            labels=[1,4], \n",
        "                            digits = 4,\n",
        "                            target_names=['related', 'unrelated']))"
      ],
      "metadata": {
        "id": "nKoXabOA7uR3"
      },
      "id": "nKoXabOA7uR3",
      "execution_count": null,
      "outputs": []
    }
  ],
  "metadata": {
    "kernelspec": {
      "display_name": "Python 3 (ipykernel)",
      "language": "python",
      "name": "python3"
    },
    "language_info": {
      "codemirror_mode": {
        "name": "ipython",
        "version": 3
      },
      "file_extension": ".py",
      "mimetype": "text/x-python",
      "name": "python",
      "nbconvert_exporter": "python",
      "pygments_lexer": "ipython3",
      "version": "3.9.7"
    },
    "colab": {
      "provenance": []
    }
  },
  "nbformat": 4,
  "nbformat_minor": 5
}